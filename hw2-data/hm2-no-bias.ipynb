{
 "cells": [
  {
   "cell_type": "code",
   "execution_count": 4,
   "id": "596a7119-ee20-4ec0-b1fa-bb3928d53496",
   "metadata": {},
   "outputs": [],
   "source": [
    "from __future__ import division # no need for python3, but just in case used w/ python2\n",
    "\n",
    "import sys\n",
    "import time\n",
    "from svector import svector\n",
    "\n",
    "def read_from(textfile):\n",
    "    for line in open(textfile):\n",
    "        label, words = line.strip().split(\"\\t\")\n",
    "        yield (1 if label==\"+\" else -1, words.split())\n",
    "\n",
    "def make_vector(words):\n",
    "    v = svector()\n",
    "    for word in words:\n",
    "        v[word] += 1\n",
    "    return v\n",
    "    \n",
    "def test(devfile, model):\n",
    "    tot, err = 0, 0\n",
    "    for i, (label, words) in enumerate(read_from(devfile), 1): # note 1...|D|\n",
    "        err += label * (model.dot(make_vector(words))) <= 0\n",
    "    return err/i  # i is |D| now\n",
    "            "
   ]
  },
  {
   "cell_type": "code",
   "execution_count": 7,
   "id": "5e67d3be-25f8-4ddc-948d-e7cb14629a8d",
   "metadata": {},
   "outputs": [],
   "source": [
    "def train(trainfile, devfile, epochs=5):\n",
    "    t = time.time()\n",
    "    best_err = 1.\n",
    "    model = svector()\n",
    "    for it in range(1, epochs+1):\n",
    "        updates = 0\n",
    "        for i, (label, words) in enumerate(read_from(trainfile), 1): # label is +1 or -1\n",
    "            sent = make_vector(words)\n",
    "            if label * (model.dot(sent)) <= 0:\n",
    "                updates += 1\n",
    "                model += label * sent\n",
    "        dev_err = test(devfile, model)\n",
    "        best_err = min(best_err, dev_err)\n",
    "        print(\"epoch %d, update %.1f%%, dev %.1f%%\" % (it, updates / i * 100, dev_err * 100))\n",
    "    print(\"best dev err %.1f%%, |w|=%d, time: %.1f secs\" % (best_err * 100, len(model), time.time() - t))"
   ]
  },
  {
   "cell_type": "code",
   "execution_count": 8,
   "id": "78a3d855-c6dc-4584-8367-def1995f0e2d",
   "metadata": {},
   "outputs": [
    {
     "name": "stdout",
     "output_type": "stream",
     "text": [
      "epoch 1, update 38.8%, dev 36.6%\n",
      "epoch 2, update 25.1%, dev 34.6%\n",
      "epoch 3, update 20.7%, dev 33.8%\n",
      "epoch 4, update 16.7%, dev 31.7%\n",
      "epoch 5, update 13.8%, dev 34.0%\n",
      "epoch 6, update 12.1%, dev 31.9%\n",
      "epoch 7, update 10.3%, dev 30.1%\n",
      "epoch 8, update 9.2%, dev 30.6%\n",
      "epoch 9, update 8.4%, dev 31.8%\n",
      "epoch 10, update 7.0%, dev 31.4%\n",
      "best dev err 30.1%, |w|=16743, time: 0.6 secs\n"
     ]
    }
   ],
   "source": [
    "trainfile = 'train.txt'\n",
    "devfile = 'dev.txt'\n",
    "train(trainfile, devfile, epochs=10)"
   ]
  },
  {
   "cell_type": "code",
   "execution_count": null,
   "id": "2946336d-da50-485f-b2ce-03c2508bd9da",
   "metadata": {},
   "outputs": [],
   "source": []
  }
 ],
 "metadata": {
  "kernelspec": {
   "display_name": "Python 3 (ipykernel)",
   "language": "python",
   "name": "python3"
  },
  "language_info": {
   "codemirror_mode": {
    "name": "ipython",
    "version": 3
   },
   "file_extension": ".py",
   "mimetype": "text/x-python",
   "name": "python",
   "nbconvert_exporter": "python",
   "pygments_lexer": "ipython3",
   "version": "3.11.6"
  }
 },
 "nbformat": 4,
 "nbformat_minor": 5
}
