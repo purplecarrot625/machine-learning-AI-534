{
 "cells": [
  {
   "cell_type": "code",
   "execution_count": 1,
   "id": "596a7119-ee20-4ec0-b1fa-bb3928d53496",
   "metadata": {},
   "outputs": [],
   "source": [
    "from __future__ import division # no need for python3, but just in case used w/ python2\n",
    "\n",
    "import sys\n",
    "import time\n",
    "from svector import svector\n",
    "\n",
    "def read_from(textfile):\n",
    "    for line in open(textfile):\n",
    "        label, words = line.strip().split(\"\\t\")\n",
    "        yield (1 if label==\"+\" else -1, words.split())\n",
    "\n",
    "def make_vector(words):\n",
    "    v = svector()\n",
    "    for word in words:\n",
    "        v[word] += 1\n",
    "    return v\n",
    "    \n",
    "def test(devfile, model):\n",
    "    tot, err = 0, 0\n",
    "    for i, (label, words) in enumerate(read_from(devfile), 1): # note 1...|D|\n",
    "        err += label * (model.dot(make_vector(words))) <= 0\n",
    "    return err/i  # i is |D| now\n",
    "            "
   ]
  },
  {
   "cell_type": "code",
   "execution_count": 2,
   "id": "5e67d3be-25f8-4ddc-948d-e7cb14629a8d",
   "metadata": {},
   "outputs": [],
   "source": [
    "import time\n",
    "\n",
    "def train(trainfile, devfile, epochs=5):\n",
    "    t = time.time()\n",
    "    best_err = 1.0\n",
    "    model = svector()\n",
    "    cumulative_model = svector()\n",
    "    updates = 0\n",
    "\n",
    "    for it in range(1, epochs + 1):\n",
    "        for i, (label, words) in enumerate(read_from(trainfile), 1):\n",
    "            sent = make_vector(words)  # Assume make_vector creates an svector from words\n",
    "            activation = model.dot(sent)\n",
    "            if label * activation <= 0:\n",
    "                update = label * sent\n",
    "                model += update\n",
    "                updates += 1\n",
    "            cumulative_model += model  # Add the current model to the cumulative model\n",
    "        \n",
    "        # Calculate the averaged model at the end of each epoch\n",
    "        if updates > 0:\n",
    "            averaged_model = cumulative_model * (1/updates)\n",
    "        else:\n",
    "            averaged_model = model.copy()\n",
    "\n",
    "        # Test the averaged model on the development set\n",
    "        dev_err = test(devfile, averaged_model)\n",
    "        best_err = min(best_err, dev_err)\n",
    "        print(f\"epoch {it}, updates {updates / i:.1f}%, dev {dev_err * 100:.1f}%\")\n",
    "\n",
    "    # Final averaged model is calculated outside the loop after all epochs\n",
    "    if updates > 0:\n",
    "        averaged_model = cumulative_model * (1/updates)\n",
    "    else:\n",
    "        averaged_model = model.copy()\n",
    "\n",
    "    print(f\"best dev err {best_err * 100:.1f}%, |w|={len(model)}, time: {time.time() - t:.1f} secs\")\n",
    "    return averaged_model\n"
   ]
  },
  {
   "cell_type": "code",
   "execution_count": 3,
   "id": "78a3d855-c6dc-4584-8367-def1995f0e2d",
   "metadata": {},
   "outputs": [
    {
     "ename": "TypeError",
     "evalue": "make_vector() got an unexpected keyword argument 'bias'",
     "output_type": "error",
     "traceback": [
      "\u001b[0;31m---------------------------------------------------------------------------\u001b[0m",
      "\u001b[0;31mTypeError\u001b[0m                                 Traceback (most recent call last)",
      "Cell \u001b[0;32mIn[3], line 3\u001b[0m\n\u001b[1;32m      1\u001b[0m trainfile \u001b[38;5;241m=\u001b[39m \u001b[38;5;124m'\u001b[39m\u001b[38;5;124mtrain.txt\u001b[39m\u001b[38;5;124m'\u001b[39m\n\u001b[1;32m      2\u001b[0m devfile \u001b[38;5;241m=\u001b[39m \u001b[38;5;124m'\u001b[39m\u001b[38;5;124mdev.txt\u001b[39m\u001b[38;5;124m'\u001b[39m\n\u001b[0;32m----> 3\u001b[0m \u001b[43mtrain\u001b[49m\u001b[43m(\u001b[49m\u001b[43mtrainfile\u001b[49m\u001b[43m,\u001b[49m\u001b[43m \u001b[49m\u001b[43mdevfile\u001b[49m\u001b[43m,\u001b[49m\u001b[43m \u001b[49m\u001b[43mepochs\u001b[49m\u001b[38;5;241;43m=\u001b[39;49m\u001b[38;5;241;43m10\u001b[39;49m\u001b[43m)\u001b[49m\n",
      "Cell \u001b[0;32mIn[2], line 12\u001b[0m, in \u001b[0;36mtrain\u001b[0;34m(trainfile, devfile, epochs)\u001b[0m\n\u001b[1;32m     10\u001b[0m \u001b[38;5;28;01mfor\u001b[39;00m it \u001b[38;5;129;01min\u001b[39;00m \u001b[38;5;28mrange\u001b[39m(\u001b[38;5;241m1\u001b[39m, epochs \u001b[38;5;241m+\u001b[39m \u001b[38;5;241m1\u001b[39m):\n\u001b[1;32m     11\u001b[0m     \u001b[38;5;28;01mfor\u001b[39;00m i, (label, words) \u001b[38;5;129;01min\u001b[39;00m \u001b[38;5;28menumerate\u001b[39m(read_from(trainfile), \u001b[38;5;241m1\u001b[39m):\n\u001b[0;32m---> 12\u001b[0m         sent \u001b[38;5;241m=\u001b[39m \u001b[43mmake_vector\u001b[49m\u001b[43m(\u001b[49m\u001b[43mwords\u001b[49m\u001b[43m,\u001b[49m\u001b[43m \u001b[49m\u001b[43mbias\u001b[49m\u001b[38;5;241;43m=\u001b[39;49m\u001b[38;5;28;43;01mTrue\u001b[39;49;00m\u001b[43m)\u001b[49m  \u001b[38;5;66;03m# Assume make_vector creates an svector from words\u001b[39;00m\n\u001b[1;32m     13\u001b[0m         activation \u001b[38;5;241m=\u001b[39m model\u001b[38;5;241m.\u001b[39mdot(sent)\n\u001b[1;32m     14\u001b[0m         \u001b[38;5;28;01mif\u001b[39;00m label \u001b[38;5;241m*\u001b[39m activation \u001b[38;5;241m<\u001b[39m\u001b[38;5;241m=\u001b[39m \u001b[38;5;241m0\u001b[39m:\n",
      "\u001b[0;31mTypeError\u001b[0m: make_vector() got an unexpected keyword argument 'bias'"
     ]
    }
   ],
   "source": [
    "trainfile = 'train.txt'\n",
    "devfile = 'dev.txt'\n",
    "train(trainfile, devfile, epochs=10)"
   ]
  },
  {
   "cell_type": "code",
   "execution_count": null,
   "id": "2946336d-da50-485f-b2ce-03c2508bd9da",
   "metadata": {},
   "outputs": [],
   "source": []
  }
 ],
 "metadata": {
  "kernelspec": {
   "display_name": "Python 3 (ipykernel)",
   "language": "python",
   "name": "python3"
  },
  "language_info": {
   "codemirror_mode": {
    "name": "ipython",
    "version": 3
   },
   "file_extension": ".py",
   "mimetype": "text/x-python",
   "name": "python",
   "nbconvert_exporter": "python",
   "pygments_lexer": "ipython3",
   "version": "3.11.6"
  }
 },
 "nbformat": 4,
 "nbformat_minor": 5
}
