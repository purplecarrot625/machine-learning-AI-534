{
 "cells": [
  {
   "cell_type": "code",
   "execution_count": 9,
   "id": "5d053f32-fa87-4c6b-b256-b19caf333796",
   "metadata": {},
   "outputs": [
    {
     "name": "stdout",
     "output_type": "stream",
     "text": [
      "Epoch 1/10, Development Error Rate: 35.70%, Running Time: 0.01 seconds\n",
      "Epoch 2/10, Development Error Rate: 30.80%, Running Time: 0.00 seconds\n",
      "Epoch 3/10, Development Error Rate: 28.70%, Running Time: 0.00 seconds\n",
      "Epoch 4/10, Development Error Rate: 30.40%, Running Time: 0.00 seconds\n",
      "Epoch 5/10, Development Error Rate: 27.10%, Running Time: 0.00 seconds\n",
      "Epoch 6/10, Development Error Rate: 28.10%, Running Time: 0.00 seconds\n",
      "Epoch 7/10, Development Error Rate: 27.30%, Running Time: 0.00 seconds\n",
      "Epoch 8/10, Development Error Rate: 27.40%, Running Time: 0.00 seconds\n",
      "Epoch 9/10, Development Error Rate: 27.40%, Running Time: 0.00 seconds\n",
      "Epoch 10/10, Development Error Rate: 27.70%, Running Time: 0.00 seconds\n"
     ]
    }
   ],
   "source": [
    "import numpy as np\n",
    "from collections import Counter\n",
    "from sklearn.feature_extraction.text import CountVectorizer\n",
    "from sklearn.linear_model import SGDClassifier\n",
    "from sklearn.metrics import accuracy_score\n",
    "from time import time\n",
    "\n",
    "def read_from(textfile):\n",
    "    for line in open(textfile):\n",
    "        label, words = line.strip().split(\"\\t\")\n",
    "        yield (1 if label == \"+\" else -1, words.split())\n",
    "\n",
    "def build_vocabulary(trainfile, min_count=2):\n",
    "    word_counts = Counter()\n",
    "    for _, words in read_from(trainfile):\n",
    "        word_counts.update(words)\n",
    "    return set(word for word, count in word_counts.items() if count >= min_count)\n",
    "\n",
    "def convert_to_matrix(trainfile, vocabulary):\n",
    "    vectorizer = CountVectorizer(vocabulary=vocabulary)\n",
    "    data = []\n",
    "    labels = []\n",
    "    for label, words in read_from(trainfile):\n",
    "        data.append(' '.join(words))\n",
    "        labels.append(label)\n",
    "    X = vectorizer.fit_transform(data)\n",
    "    y = np.array(labels)\n",
    "    return X, y\n",
    "\n",
    "def train_with_sklearn(trainfile, devfile, epochs=10):\n",
    "    vocabulary = build_vocabulary(trainfile)\n",
    "    X_train, y_train = convert_to_matrix(trainfile, vocabulary)\n",
    "    X_dev, y_dev = convert_to_matrix(devfile, vocabulary)\n",
    "    clf = SGDClassifier(loss='hinge')\n",
    "    for epoch in range(epochs):\n",
    "        start_time = time()\n",
    "        clf.partial_fit(X_train, y_train, classes=np.unique(y_train))\n",
    "        y_pred_dev = clf.predict(X_dev)\n",
    "        end_time = time()\n",
    "        dev_error_rate = 1 - accuracy_score(y_dev, y_pred_dev)\n",
    "        running_time = end_time - start_time\n",
    "        print(f\"Epoch {epoch+1}/{epochs}, Development Error Rate: {dev_error_rate * 100:.2f}%, Running Time: {running_time:.2f} seconds\")\n",
    "    return clf\n",
    "\n",
    "trainfile = 'train.txt'\n",
    "devfile = 'dev.txt'\n",
    "classifier = train_with_sklearn(trainfile, devfile)\n"
   ]
  },
  {
   "cell_type": "code",
   "execution_count": null,
   "id": "b8dd6a72-d3a3-494f-8990-80a55d7389fe",
   "metadata": {},
   "outputs": [],
   "source": []
  }
 ],
 "metadata": {
  "kernelspec": {
   "display_name": "Python 3 (ipykernel)",
   "language": "python",
   "name": "python3"
  },
  "language_info": {
   "codemirror_mode": {
    "name": "ipython",
    "version": 3
   },
   "file_extension": ".py",
   "mimetype": "text/x-python",
   "name": "python",
   "nbconvert_exporter": "python",
   "pygments_lexer": "ipython3",
   "version": "3.11.6"
  }
 },
 "nbformat": 4,
 "nbformat_minor": 5
}
