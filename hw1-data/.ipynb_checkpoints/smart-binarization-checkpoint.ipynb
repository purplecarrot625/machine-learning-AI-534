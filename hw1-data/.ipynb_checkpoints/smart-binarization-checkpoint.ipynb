{
 "cells": [
  {
   "cell_type": "code",
   "execution_count": 1,
   "id": "1b582a11-dd2b-45f0-8700-c49d6cbec93c",
   "metadata": {},
   "outputs": [],
   "source": [
    "from sklearn.compose import ColumnTransformer\n",
    "from sklearn.preprocessing import OneHotEncoder"
   ]
  },
  {
   "cell_type": "code",
   "execution_count": 2,
   "id": "abc8abd1-eba0-4c14-908b-e964b70722e5",
   "metadata": {},
   "outputs": [],
   "source": [
    "import pandas as pd"
   ]
  },
  {
   "cell_type": "code",
   "execution_count": 3,
   "id": "ff4a1c0f-4ebc-4335-baaf-09b665b86d0f",
   "metadata": {},
   "outputs": [],
   "source": [
    "num_processor = 'passthrough' # i.e., no transformation\n",
    "cat_processor = OneHotEncoder(sparse=False, handle_unknown='ignore')\n"
   ]
  },
  {
   "cell_type": "code",
   "execution_count": 4,
   "id": "bbef8af1-d144-4c5a-9607-eccb0d9c426c",
   "metadata": {},
   "outputs": [],
   "source": [
    "names = [\"age\", \"sector\", \"education\", \"marital-status\", \"occupation\", \"race\", \"sex\", \"hours-per-week\", \"country-of-origin\", \"target\"]"
   ]
  },
  {
   "cell_type": "code",
   "execution_count": 5,
   "id": "615dcb14-8f6b-4459-a067-dabffe742200",
   "metadata": {},
   "outputs": [],
   "source": [
    "data = pd.read_csv(\"income.train.txt.5k\", names = names)"
   ]
  },
  {
   "cell_type": "code",
   "execution_count": 14,
   "id": "daa532f3-ca81-4f00-b97d-06a2f97d5952",
   "metadata": {},
   "outputs": [
    {
     "name": "stderr",
     "output_type": "stream",
     "text": [
      "/opt/homebrew/lib/python3.11/site-packages/sklearn/preprocessing/_encoders.py:975: FutureWarning: `sparse` was renamed to `sparse_output` in version 1.2 and will be removed in 1.4. `sparse_output` is ignored unless you leave `sparse` to its default value.\n",
      "  warnings.warn(\n",
      "/opt/homebrew/lib/python3.11/site-packages/sklearn/preprocessing/_encoders.py:975: FutureWarning: `sparse` was renamed to `sparse_output` in version 1.2 and will be removed in 1.4. `sparse_output` is ignored unless you leave `sparse` to its default value.\n",
      "  warnings.warn(\n",
      "/opt/homebrew/lib/python3.11/site-packages/sklearn/preprocessing/_encoders.py:975: FutureWarning: `sparse` was renamed to `sparse_output` in version 1.2 and will be removed in 1.4. `sparse_output` is ignored unless you leave `sparse` to its default value.\n",
      "  warnings.warn(\n",
      "/opt/homebrew/lib/python3.11/site-packages/sklearn/preprocessing/_encoders.py:975: FutureWarning: `sparse` was renamed to `sparse_output` in version 1.2 and will be removed in 1.4. `sparse_output` is ignored unless you leave `sparse` to its default value.\n",
      "  warnings.warn(\n",
      "/opt/homebrew/lib/python3.11/site-packages/sklearn/preprocessing/_encoders.py:975: FutureWarning: `sparse` was renamed to `sparse_output` in version 1.2 and will be removed in 1.4. `sparse_output` is ignored unless you leave `sparse` to its default value.\n",
      "  warnings.warn(\n",
      "/opt/homebrew/lib/python3.11/site-packages/sklearn/preprocessing/_encoders.py:975: FutureWarning: `sparse` was renamed to `sparse_output` in version 1.2 and will be removed in 1.4. `sparse_output` is ignored unless you leave `sparse` to its default value.\n",
      "  warnings.warn(\n",
      "/opt/homebrew/lib/python3.11/site-packages/sklearn/preprocessing/_encoders.py:975: FutureWarning: `sparse` was renamed to `sparse_output` in version 1.2 and will be removed in 1.4. `sparse_output` is ignored unless you leave `sparse` to its default value.\n",
      "  warnings.warn(\n"
     ]
    }
   ],
   "source": [
    "#  includes transformations for all the categorical columns in the dataset\n",
    "preprocessor = ColumnTransformer([\n",
    "           ('num', num_processor, ['age', 'hours-per-week']),\n",
    "           ('sector', cat_processor, ['sector']),\n",
    "           ('education', cat_processor, ['education']),\n",
    "           ('marital-status', cat_processor, ['marital-status']),\n",
    "           ('occupation', cat_processor, ['occupation']),\n",
    "           ('race', cat_processor, ['race']),\n",
    "           ('sex', cat_processor, ['sex']),\n",
    "           ('country', cat_processor, ['country-of-origin']),\n",
    "       ])\n",
    "preprocessor.fit(data)\n",
    "processed_data = preprocessor.transform(data)"
   ]
  },
  {
   "cell_type": "code",
   "execution_count": 15,
   "id": "c2db2dd2-00e7-416f-8b6c-b9245138d043",
   "metadata": {},
   "outputs": [
    {
     "data": {
      "text/plain": [
       "array([[50., 13.,  0., ...,  1.,  0.,  0.],\n",
       "       [38., 40.,  0., ...,  1.,  0.,  0.],\n",
       "       [53., 40.,  0., ...,  1.,  0.,  0.],\n",
       "       ...,\n",
       "       [61.,  5.,  0., ...,  1.,  0.,  0.],\n",
       "       [42., 40.,  0., ...,  1.,  0.,  0.],\n",
       "       [21., 40.,  0., ...,  1.,  0.,  0.]])"
      ]
     },
     "execution_count": 15,
     "metadata": {},
     "output_type": "execute_result"
    }
   ],
   "source": [
    "processed_data"
   ]
  },
  {
   "cell_type": "code",
   "execution_count": 18,
   "id": "e0625bc9-19cc-4ba7-abd7-2821471e879a",
   "metadata": {},
   "outputs": [
    {
     "data": {
      "text/plain": [
       "array(['num__age', 'num__hours-per-week', 'sector__sector_ Federal-gov',\n",
       "       'sector__sector_ Local-gov', 'sector__sector_ Private',\n",
       "       'sector__sector_ Self-emp-inc', 'sector__sector_ Self-emp-not-inc',\n",
       "       'sector__sector_ State-gov', 'sector__sector_ Without-pay',\n",
       "       'education__education_ 10th', 'education__education_ 11th',\n",
       "       'education__education_ 12th', 'education__education_ 1st-4th',\n",
       "       'education__education_ 5th-6th', 'education__education_ 7th-8th',\n",
       "       'education__education_ 9th', 'education__education_ Assoc-acdm',\n",
       "       'education__education_ Assoc-voc',\n",
       "       'education__education_ Bachelors',\n",
       "       'education__education_ Doctorate', 'education__education_ HS-grad',\n",
       "       'education__education_ Masters', 'education__education_ Preschool',\n",
       "       'education__education_ Prof-school',\n",
       "       'education__education_ Some-college',\n",
       "       'marital-status__marital-status_ Divorced',\n",
       "       'marital-status__marital-status_ Married-AF-spouse',\n",
       "       'marital-status__marital-status_ Married-civ-spouse',\n",
       "       'marital-status__marital-status_ Married-spouse-absent',\n",
       "       'marital-status__marital-status_ Never-married',\n",
       "       'marital-status__marital-status_ Separated',\n",
       "       'marital-status__marital-status_ Widowed',\n",
       "       'occupation__occupation_ Adm-clerical',\n",
       "       'occupation__occupation_ Armed-Forces',\n",
       "       'occupation__occupation_ Craft-repair',\n",
       "       'occupation__occupation_ Exec-managerial',\n",
       "       'occupation__occupation_ Farming-fishing',\n",
       "       'occupation__occupation_ Handlers-cleaners',\n",
       "       'occupation__occupation_ Machine-op-inspct',\n",
       "       'occupation__occupation_ Other-service',\n",
       "       'occupation__occupation_ Priv-house-serv',\n",
       "       'occupation__occupation_ Prof-specialty',\n",
       "       'occupation__occupation_ Protective-serv',\n",
       "       'occupation__occupation_ Sales',\n",
       "       'occupation__occupation_ Tech-support',\n",
       "       'occupation__occupation_ Transport-moving',\n",
       "       'race__race_ Amer-Indian-Eskimo', 'race__race_ Asian-Pac-Islander',\n",
       "       'race__race_ Black', 'race__race_ Other', 'race__race_ White',\n",
       "       'sex__sex_ Female', 'sex__sex_ Male',\n",
       "       'country__country-of-origin_ Cambodia',\n",
       "       'country__country-of-origin_ Canada',\n",
       "       'country__country-of-origin_ China',\n",
       "       'country__country-of-origin_ Columbia',\n",
       "       'country__country-of-origin_ Cuba',\n",
       "       'country__country-of-origin_ Dominican-Republic',\n",
       "       'country__country-of-origin_ Ecuador',\n",
       "       'country__country-of-origin_ El-Salvador',\n",
       "       'country__country-of-origin_ England',\n",
       "       'country__country-of-origin_ France',\n",
       "       'country__country-of-origin_ Germany',\n",
       "       'country__country-of-origin_ Greece',\n",
       "       'country__country-of-origin_ Guatemala',\n",
       "       'country__country-of-origin_ Haiti',\n",
       "       'country__country-of-origin_ Honduras',\n",
       "       'country__country-of-origin_ Hong',\n",
       "       'country__country-of-origin_ India',\n",
       "       'country__country-of-origin_ Iran',\n",
       "       'country__country-of-origin_ Ireland',\n",
       "       'country__country-of-origin_ Italy',\n",
       "       'country__country-of-origin_ Jamaica',\n",
       "       'country__country-of-origin_ Japan',\n",
       "       'country__country-of-origin_ Laos',\n",
       "       'country__country-of-origin_ Mexico',\n",
       "       'country__country-of-origin_ Nicaragua',\n",
       "       'country__country-of-origin_ Outlying-US(Guam-USVI-etc)',\n",
       "       'country__country-of-origin_ Peru',\n",
       "       'country__country-of-origin_ Philippines',\n",
       "       'country__country-of-origin_ Poland',\n",
       "       'country__country-of-origin_ Portugal',\n",
       "       'country__country-of-origin_ Puerto-Rico',\n",
       "       'country__country-of-origin_ Scotland',\n",
       "       'country__country-of-origin_ South',\n",
       "       'country__country-of-origin_ Taiwan',\n",
       "       'country__country-of-origin_ Thailand',\n",
       "       'country__country-of-origin_ Trinadad&Tobago',\n",
       "       'country__country-of-origin_ United-States',\n",
       "       'country__country-of-origin_ Vietnam',\n",
       "       'country__country-of-origin_ Yugoslavia'], dtype=object)"
      ]
     },
     "execution_count": 18,
     "metadata": {},
     "output_type": "execute_result"
    }
   ],
   "source": [
    "# After fitting the ColumnTransformer to the data, \n",
    "# We can retrieve the feature names using the get_feature_names_out() method\n",
    "feature_names = preprocessor.get_feature_names_out()\n",
    "feature_names"
   ]
  },
  {
   "cell_type": "code",
   "execution_count": 17,
   "id": "b85fb50d-61c7-41a2-a61a-2e2be1dc89dc",
   "metadata": {},
   "outputs": [
    {
     "data": {
      "text/plain": [
       "92"
      ]
     },
     "execution_count": 17,
     "metadata": {},
     "output_type": "execute_result"
    }
   ],
   "source": [
    "count = len(feature_names)\n",
    "count"
   ]
  },
  {
   "cell_type": "code",
   "execution_count": 33,
   "id": "f05fff76-e770-4fb1-9b34-99dfda4ceefd",
   "metadata": {},
   "outputs": [],
   "source": [
    "from sklearn.neighbors import KNeighborsClassifier\n",
    "from sklearn.metrics import accuracy_score"
   ]
  },
  {
   "cell_type": "code",
   "execution_count": 34,
   "id": "11cdadc6-249e-41cb-b26c-8028aa0426a9",
   "metadata": {},
   "outputs": [],
   "source": [
    "dev_data = pd.read_csv(\"income.dev.txt\", names = names)"
   ]
  },
  {
   "cell_type": "code",
   "execution_count": 55,
   "id": "28baa441-4656-42ef-a6c4-ce437a509076",
   "metadata": {},
   "outputs": [],
   "source": [
    "processed_dev_data = preprocessor.transform(dev_data)\n",
    "X_dev = processed_dev_data\n",
    "y_dev = (dev_data[\"target\"].str.strip() == '>50K').astype(int).values  # Convert target to binary (assuming '>50K' is the positive class)"
   ]
  },
  {
   "cell_type": "code",
   "execution_count": 56,
   "id": "02654b34-050a-4167-8c45-8278615ecbaf",
   "metadata": {},
   "outputs": [],
   "source": [
    "X_train = processed_data\n",
    "y_train = (data[\"target\"].str.strip() == '>50K').astype(int).values"
   ]
  },
  {
   "cell_type": "code",
   "execution_count": 57,
   "id": "e4da18c1-4506-42a6-9b0b-386b74815da5",
   "metadata": {},
   "outputs": [],
   "source": [
    "training_error_rates = []\n",
    "dev_error_rates = []\n",
    "training_positive_rates = []\n",
    "dev_positive_rates = []"
   ]
  },
  {
   "cell_type": "code",
   "execution_count": 58,
   "id": "15ca95e1-8975-41ac-b043-87e38f1a84e9",
   "metadata": {},
   "outputs": [
    {
     "data": {
      "text/plain": [
       "1"
      ]
     },
     "execution_count": 58,
     "metadata": {},
     "output_type": "execute_result"
    }
   ],
   "source": [
    "y_train[-4]"
   ]
  },
  {
   "cell_type": "code",
   "execution_count": 59,
   "id": "2bebc4b8-2a83-43c0-9c6f-970129386325",
   "metadata": {},
   "outputs": [
    {
     "name": "stdout",
     "output_type": "stream",
     "text": [
      "k=1: Training Error Rate = 0.0152, Dev Error Rate = 0.2690\n",
      "k=3: Training Error Rate = 0.1300, Dev Error Rate = 0.2400\n",
      "k=5: Training Error Rate = 0.1562, Dev Error Rate = 0.2340\n",
      "k=7: Training Error Rate = 0.1684, Dev Error Rate = 0.2330\n",
      "k=9: Training Error Rate = 0.1828, Dev Error Rate = 0.2220\n",
      "k=11: Training Error Rate = 0.1882, Dev Error Rate = 0.2190\n",
      "k=13: Training Error Rate = 0.1898, Dev Error Rate = 0.2170\n",
      "k=15: Training Error Rate = 0.1924, Dev Error Rate = 0.2150\n",
      "k=17: Training Error Rate = 0.1948, Dev Error Rate = 0.2210\n",
      "k=19: Training Error Rate = 0.1966, Dev Error Rate = 0.2140\n",
      "k=21: Training Error Rate = 0.1978, Dev Error Rate = 0.2170\n",
      "k=23: Training Error Rate = 0.2028, Dev Error Rate = 0.2230\n",
      "k=25: Training Error Rate = 0.2010, Dev Error Rate = 0.2210\n",
      "k=27: Training Error Rate = 0.2078, Dev Error Rate = 0.2200\n",
      "k=29: Training Error Rate = 0.2146, Dev Error Rate = 0.2130\n",
      "k=31: Training Error Rate = 0.2094, Dev Error Rate = 0.2140\n",
      "k=33: Training Error Rate = 0.2136, Dev Error Rate = 0.2070\n",
      "k=35: Training Error Rate = 0.2140, Dev Error Rate = 0.2130\n",
      "k=37: Training Error Rate = 0.2140, Dev Error Rate = 0.2170\n",
      "k=39: Training Error Rate = 0.2168, Dev Error Rate = 0.2180\n",
      "k=41: Training Error Rate = 0.2172, Dev Error Rate = 0.2180\n",
      "k=43: Training Error Rate = 0.2156, Dev Error Rate = 0.2230\n",
      "k=45: Training Error Rate = 0.2194, Dev Error Rate = 0.2230\n",
      "k=47: Training Error Rate = 0.2186, Dev Error Rate = 0.2270\n",
      "k=49: Training Error Rate = 0.2214, Dev Error Rate = 0.2200\n",
      "k=51: Training Error Rate = 0.2228, Dev Error Rate = 0.2210\n",
      "k=53: Training Error Rate = 0.2256, Dev Error Rate = 0.2240\n",
      "k=55: Training Error Rate = 0.2278, Dev Error Rate = 0.2230\n",
      "k=57: Training Error Rate = 0.2280, Dev Error Rate = 0.2180\n",
      "k=59: Training Error Rate = 0.2278, Dev Error Rate = 0.2190\n",
      "k=61: Training Error Rate = 0.2298, Dev Error Rate = 0.2240\n",
      "k=63: Training Error Rate = 0.2282, Dev Error Rate = 0.2270\n",
      "k=65: Training Error Rate = 0.2294, Dev Error Rate = 0.2260\n",
      "k=67: Training Error Rate = 0.2306, Dev Error Rate = 0.2220\n",
      "k=69: Training Error Rate = 0.2308, Dev Error Rate = 0.2220\n",
      "k=71: Training Error Rate = 0.2304, Dev Error Rate = 0.2290\n",
      "k=73: Training Error Rate = 0.2294, Dev Error Rate = 0.2210\n",
      "k=75: Training Error Rate = 0.2310, Dev Error Rate = 0.2250\n",
      "k=77: Training Error Rate = 0.2300, Dev Error Rate = 0.2200\n",
      "k=79: Training Error Rate = 0.2332, Dev Error Rate = 0.2230\n",
      "k=81: Training Error Rate = 0.2324, Dev Error Rate = 0.2190\n",
      "k=83: Training Error Rate = 0.2302, Dev Error Rate = 0.2240\n",
      "k=85: Training Error Rate = 0.2336, Dev Error Rate = 0.2190\n",
      "k=87: Training Error Rate = 0.2364, Dev Error Rate = 0.2220\n",
      "k=89: Training Error Rate = 0.2352, Dev Error Rate = 0.2260\n",
      "k=91: Training Error Rate = 0.2332, Dev Error Rate = 0.2250\n",
      "k=93: Training Error Rate = 0.2356, Dev Error Rate = 0.2280\n",
      "k=95: Training Error Rate = 0.2326, Dev Error Rate = 0.2240\n",
      "k=97: Training Error Rate = 0.2332, Dev Error Rate = 0.2250\n",
      "k=99: Training Error Rate = 0.2310, Dev Error Rate = 0.2310\n"
     ]
    }
   ],
   "source": [
    "for k in range(1, 101, 2):\n",
    "    knn = KNeighborsClassifier(n_neighbors=k)\n",
    "    knn.fit(X_train, y_train)\n",
    "    \n",
    "    train_preds = knn.predict(X_train)\n",
    "    dev_preds = knn.predict(X_dev)\n",
    "    \n",
    "    train_error_rate = 1 - accuracy_score(y_train, train_preds)\n",
    "    dev_error_rate = 1 - accuracy_score(y_dev, dev_preds)\n",
    "    \n",
    "    training_error_rates.append(train_error_rate)\n",
    "    dev_error_rates.append(dev_error_rate)\n",
    "    \n",
    "    print(f\"k={k}: Training Error Rate = {train_error_rate:.4f}, Dev Error Rate = {dev_error_rate:.4f}\")"
   ]
  },
  {
   "cell_type": "code",
   "execution_count": 61,
   "id": "e955c58a-5992-4e2c-8bcd-ba8c1a2e3dc4",
   "metadata": {},
   "outputs": [],
   "source": [
    "# Question - 2\n",
    "from sklearn.compose import ColumnTransformer\n",
    "from sklearn.preprocessing import MinMaxScaler, OneHotEncoder\n"
   ]
  },
  {
   "cell_type": "code",
   "execution_count": 62,
   "id": "4bd52521-ac1f-4105-b488-c8057717dbee",
   "metadata": {},
   "outputs": [],
   "source": [
    "num_processor = MinMaxScaler(feature_range=(0, 2))\n",
    "cat_processor = OneHotEncoder(sparse=False, handle_unknown='ignore')"
   ]
  },
  {
   "cell_type": "code",
   "execution_count": 63,
   "id": "f7b967ad-e407-4e9c-a970-bd94fef32b7f",
   "metadata": {},
   "outputs": [
    {
     "name": "stderr",
     "output_type": "stream",
     "text": [
      "/opt/homebrew/lib/python3.11/site-packages/sklearn/preprocessing/_encoders.py:975: FutureWarning: `sparse` was renamed to `sparse_output` in version 1.2 and will be removed in 1.4. `sparse_output` is ignored unless you leave `sparse` to its default value.\n",
      "  warnings.warn(\n",
      "/opt/homebrew/lib/python3.11/site-packages/sklearn/preprocessing/_encoders.py:975: FutureWarning: `sparse` was renamed to `sparse_output` in version 1.2 and will be removed in 1.4. `sparse_output` is ignored unless you leave `sparse` to its default value.\n",
      "  warnings.warn(\n",
      "/opt/homebrew/lib/python3.11/site-packages/sklearn/preprocessing/_encoders.py:975: FutureWarning: `sparse` was renamed to `sparse_output` in version 1.2 and will be removed in 1.4. `sparse_output` is ignored unless you leave `sparse` to its default value.\n",
      "  warnings.warn(\n",
      "/opt/homebrew/lib/python3.11/site-packages/sklearn/preprocessing/_encoders.py:975: FutureWarning: `sparse` was renamed to `sparse_output` in version 1.2 and will be removed in 1.4. `sparse_output` is ignored unless you leave `sparse` to its default value.\n",
      "  warnings.warn(\n",
      "/opt/homebrew/lib/python3.11/site-packages/sklearn/preprocessing/_encoders.py:975: FutureWarning: `sparse` was renamed to `sparse_output` in version 1.2 and will be removed in 1.4. `sparse_output` is ignored unless you leave `sparse` to its default value.\n",
      "  warnings.warn(\n",
      "/opt/homebrew/lib/python3.11/site-packages/sklearn/preprocessing/_encoders.py:975: FutureWarning: `sparse` was renamed to `sparse_output` in version 1.2 and will be removed in 1.4. `sparse_output` is ignored unless you leave `sparse` to its default value.\n",
      "  warnings.warn(\n",
      "/opt/homebrew/lib/python3.11/site-packages/sklearn/preprocessing/_encoders.py:975: FutureWarning: `sparse` was renamed to `sparse_output` in version 1.2 and will be removed in 1.4. `sparse_output` is ignored unless you leave `sparse` to its default value.\n",
      "  warnings.warn(\n"
     ]
    }
   ],
   "source": [
    "preprocessor = ColumnTransformer([\n",
    "           ('num', num_processor, ['age', 'hours-per-week']),\n",
    "           ('sector', cat_processor, ['sector']),\n",
    "           ('education', cat_processor, ['education']),\n",
    "           ('marital-status', cat_processor, ['marital-status']),\n",
    "           ('occupation', cat_processor, ['occupation']),\n",
    "           ('race', cat_processor, ['race']),\n",
    "           ('sex', cat_processor, ['sex']),\n",
    "           ('country', cat_processor, ['country-of-origin']),\n",
    "       ])\n",
    "preprocessor.fit(data)\n",
    "processed_data = preprocessor.transform(data)"
   ]
  },
  {
   "cell_type": "code",
   "execution_count": 64,
   "id": "9b168667-45fd-4473-b46c-11cdeaa1577d",
   "metadata": {},
   "outputs": [],
   "source": [
    "X_train = processed_data\n",
    "y_train = (data[\"target\"].str.strip() == '>50K').astype(int).values"
   ]
  },
  {
   "cell_type": "code",
   "execution_count": 65,
   "id": "2e8295f8-04d3-4e22-8f11-16e5f6da61c7",
   "metadata": {},
   "outputs": [
    {
     "name": "stdout",
     "output_type": "stream",
     "text": [
      "k=1: Training Error Rate = 0.0152, Dev Error Rate = 0.2370\n",
      "k=3: Training Error Rate = 0.1152, Dev Error Rate = 0.1920\n",
      "k=5: Training Error Rate = 0.1376, Dev Error Rate = 0.1830\n",
      "k=7: Training Error Rate = 0.1410, Dev Error Rate = 0.1680\n",
      "k=9: Training Error Rate = 0.1552, Dev Error Rate = 0.1590\n",
      "k=11: Training Error Rate = 0.1634, Dev Error Rate = 0.1630\n",
      "k=13: Training Error Rate = 0.1634, Dev Error Rate = 0.1640\n",
      "k=15: Training Error Rate = 0.1642, Dev Error Rate = 0.1570\n",
      "k=17: Training Error Rate = 0.1660, Dev Error Rate = 0.1610\n",
      "k=19: Training Error Rate = 0.1690, Dev Error Rate = 0.1640\n",
      "k=21: Training Error Rate = 0.1702, Dev Error Rate = 0.1590\n",
      "k=23: Training Error Rate = 0.1708, Dev Error Rate = 0.1540\n",
      "k=25: Training Error Rate = 0.1696, Dev Error Rate = 0.1500\n",
      "k=27: Training Error Rate = 0.1692, Dev Error Rate = 0.1560\n",
      "k=29: Training Error Rate = 0.1700, Dev Error Rate = 0.1520\n",
      "k=31: Training Error Rate = 0.1706, Dev Error Rate = 0.1520\n",
      "k=33: Training Error Rate = 0.1712, Dev Error Rate = 0.1550\n",
      "k=35: Training Error Rate = 0.1722, Dev Error Rate = 0.1500\n",
      "k=37: Training Error Rate = 0.1720, Dev Error Rate = 0.1480\n",
      "k=39: Training Error Rate = 0.1726, Dev Error Rate = 0.1470\n",
      "k=41: Training Error Rate = 0.1744, Dev Error Rate = 0.1430\n",
      "k=43: Training Error Rate = 0.1740, Dev Error Rate = 0.1490\n",
      "k=45: Training Error Rate = 0.1760, Dev Error Rate = 0.1500\n",
      "k=47: Training Error Rate = 0.1786, Dev Error Rate = 0.1530\n",
      "k=49: Training Error Rate = 0.1800, Dev Error Rate = 0.1510\n",
      "k=51: Training Error Rate = 0.1802, Dev Error Rate = 0.1550\n",
      "k=53: Training Error Rate = 0.1798, Dev Error Rate = 0.1540\n",
      "k=55: Training Error Rate = 0.1796, Dev Error Rate = 0.1540\n",
      "k=57: Training Error Rate = 0.1808, Dev Error Rate = 0.1560\n",
      "k=59: Training Error Rate = 0.1810, Dev Error Rate = 0.1520\n",
      "k=61: Training Error Rate = 0.1794, Dev Error Rate = 0.1570\n",
      "k=63: Training Error Rate = 0.1806, Dev Error Rate = 0.1540\n",
      "k=65: Training Error Rate = 0.1782, Dev Error Rate = 0.1540\n",
      "k=67: Training Error Rate = 0.1778, Dev Error Rate = 0.1530\n",
      "k=69: Training Error Rate = 0.1790, Dev Error Rate = 0.1510\n",
      "k=71: Training Error Rate = 0.1786, Dev Error Rate = 0.1530\n",
      "k=73: Training Error Rate = 0.1780, Dev Error Rate = 0.1490\n",
      "k=75: Training Error Rate = 0.1784, Dev Error Rate = 0.1480\n",
      "k=77: Training Error Rate = 0.1788, Dev Error Rate = 0.1490\n",
      "k=79: Training Error Rate = 0.1786, Dev Error Rate = 0.1510\n",
      "k=81: Training Error Rate = 0.1774, Dev Error Rate = 0.1510\n",
      "k=83: Training Error Rate = 0.1772, Dev Error Rate = 0.1540\n",
      "k=85: Training Error Rate = 0.1770, Dev Error Rate = 0.1530\n",
      "k=87: Training Error Rate = 0.1776, Dev Error Rate = 0.1550\n",
      "k=89: Training Error Rate = 0.1788, Dev Error Rate = 0.1520\n",
      "k=91: Training Error Rate = 0.1788, Dev Error Rate = 0.1540\n",
      "k=93: Training Error Rate = 0.1792, Dev Error Rate = 0.1520\n",
      "k=95: Training Error Rate = 0.1778, Dev Error Rate = 0.1540\n",
      "k=97: Training Error Rate = 0.1786, Dev Error Rate = 0.1570\n",
      "k=99: Training Error Rate = 0.1780, Dev Error Rate = 0.1580\n"
     ]
    }
   ],
   "source": [
    "processed_dev_data = preprocessor.transform(dev_data)\n",
    "X_dev = processed_dev_data\n",
    "y_dev = (dev_data[\"target\"].str.strip() == '>50K').astype(int).values\n",
    "training_error_rates = []\n",
    "dev_error_rates = []\n",
    "training_positive_rates = []\n",
    "dev_positive_rates = []\n",
    "for k in range(1, 101, 2):\n",
    "    knn = KNeighborsClassifier(n_neighbors=k)\n",
    "    knn.fit(X_train, y_train)\n",
    "    \n",
    "    train_preds = knn.predict(X_train)\n",
    "    dev_preds = knn.predict(X_dev)\n",
    "    \n",
    "    train_error_rate = 1 - accuracy_score(y_train, train_preds)\n",
    "    dev_error_rate = 1 - accuracy_score(y_dev, dev_preds)\n",
    "    \n",
    "    training_error_rates.append(train_error_rate)\n",
    "    dev_error_rates.append(dev_error_rate)\n",
    "    \n",
    "    print(f\"k={k}: Training Error Rate = {train_error_rate:.4f}, Dev Error Rate = {dev_error_rate:.4f}\")"
   ]
  },
  {
   "cell_type": "code",
   "execution_count": 66,
   "id": "d5240c7c-b923-46ad-a1d5-8ef94c0e6f83",
   "metadata": {},
   "outputs": [
    {
     "name": "stdout",
     "output_type": "stream",
     "text": [
      "Metric=euclidean, k=1: Training Error Rate = 0.0152, Dev Error Rate = 0.2370\n",
      "Metric=euclidean, k=3: Training Error Rate = 0.1152, Dev Error Rate = 0.1920\n",
      "Metric=euclidean, k=5: Training Error Rate = 0.1376, Dev Error Rate = 0.1830\n",
      "Metric=euclidean, k=7: Training Error Rate = 0.1410, Dev Error Rate = 0.1680\n",
      "Metric=euclidean, k=9: Training Error Rate = 0.1552, Dev Error Rate = 0.1590\n",
      "Metric=euclidean, k=11: Training Error Rate = 0.1634, Dev Error Rate = 0.1630\n",
      "Metric=euclidean, k=13: Training Error Rate = 0.1634, Dev Error Rate = 0.1640\n",
      "Metric=euclidean, k=15: Training Error Rate = 0.1642, Dev Error Rate = 0.1570\n",
      "Metric=euclidean, k=17: Training Error Rate = 0.1660, Dev Error Rate = 0.1610\n",
      "Metric=euclidean, k=19: Training Error Rate = 0.1690, Dev Error Rate = 0.1640\n",
      "Metric=euclidean, k=21: Training Error Rate = 0.1702, Dev Error Rate = 0.1590\n",
      "Metric=euclidean, k=23: Training Error Rate = 0.1708, Dev Error Rate = 0.1540\n",
      "Metric=euclidean, k=25: Training Error Rate = 0.1696, Dev Error Rate = 0.1500\n",
      "Metric=euclidean, k=27: Training Error Rate = 0.1692, Dev Error Rate = 0.1560\n",
      "Metric=euclidean, k=29: Training Error Rate = 0.1700, Dev Error Rate = 0.1520\n",
      "Metric=euclidean, k=31: Training Error Rate = 0.1706, Dev Error Rate = 0.1520\n",
      "Metric=euclidean, k=33: Training Error Rate = 0.1712, Dev Error Rate = 0.1550\n",
      "Metric=euclidean, k=35: Training Error Rate = 0.1722, Dev Error Rate = 0.1500\n",
      "Metric=euclidean, k=37: Training Error Rate = 0.1720, Dev Error Rate = 0.1480\n",
      "Metric=euclidean, k=39: Training Error Rate = 0.1726, Dev Error Rate = 0.1470\n",
      "Metric=euclidean, k=41: Training Error Rate = 0.1744, Dev Error Rate = 0.1430\n",
      "Metric=euclidean, k=43: Training Error Rate = 0.1740, Dev Error Rate = 0.1490\n",
      "Metric=euclidean, k=45: Training Error Rate = 0.1760, Dev Error Rate = 0.1500\n",
      "Metric=euclidean, k=47: Training Error Rate = 0.1786, Dev Error Rate = 0.1530\n",
      "Metric=euclidean, k=49: Training Error Rate = 0.1800, Dev Error Rate = 0.1510\n",
      "Metric=euclidean, k=51: Training Error Rate = 0.1802, Dev Error Rate = 0.1550\n",
      "Metric=euclidean, k=53: Training Error Rate = 0.1798, Dev Error Rate = 0.1540\n",
      "Metric=euclidean, k=55: Training Error Rate = 0.1796, Dev Error Rate = 0.1540\n",
      "Metric=euclidean, k=57: Training Error Rate = 0.1808, Dev Error Rate = 0.1560\n",
      "Metric=euclidean, k=59: Training Error Rate = 0.1810, Dev Error Rate = 0.1520\n",
      "Metric=euclidean, k=61: Training Error Rate = 0.1794, Dev Error Rate = 0.1570\n",
      "Metric=euclidean, k=63: Training Error Rate = 0.1806, Dev Error Rate = 0.1540\n",
      "Metric=euclidean, k=65: Training Error Rate = 0.1782, Dev Error Rate = 0.1540\n",
      "Metric=euclidean, k=67: Training Error Rate = 0.1778, Dev Error Rate = 0.1530\n",
      "Metric=euclidean, k=69: Training Error Rate = 0.1790, Dev Error Rate = 0.1510\n",
      "Metric=euclidean, k=71: Training Error Rate = 0.1786, Dev Error Rate = 0.1530\n",
      "Metric=euclidean, k=73: Training Error Rate = 0.1780, Dev Error Rate = 0.1490\n",
      "Metric=euclidean, k=75: Training Error Rate = 0.1784, Dev Error Rate = 0.1480\n",
      "Metric=euclidean, k=77: Training Error Rate = 0.1788, Dev Error Rate = 0.1490\n",
      "Metric=euclidean, k=79: Training Error Rate = 0.1786, Dev Error Rate = 0.1510\n",
      "Metric=euclidean, k=81: Training Error Rate = 0.1774, Dev Error Rate = 0.1510\n",
      "Metric=euclidean, k=83: Training Error Rate = 0.1772, Dev Error Rate = 0.1540\n",
      "Metric=euclidean, k=85: Training Error Rate = 0.1770, Dev Error Rate = 0.1530\n",
      "Metric=euclidean, k=87: Training Error Rate = 0.1776, Dev Error Rate = 0.1550\n",
      "Metric=euclidean, k=89: Training Error Rate = 0.1788, Dev Error Rate = 0.1520\n",
      "Metric=euclidean, k=91: Training Error Rate = 0.1788, Dev Error Rate = 0.1540\n",
      "Metric=euclidean, k=93: Training Error Rate = 0.1792, Dev Error Rate = 0.1520\n",
      "Metric=euclidean, k=95: Training Error Rate = 0.1778, Dev Error Rate = 0.1540\n",
      "Metric=euclidean, k=97: Training Error Rate = 0.1786, Dev Error Rate = 0.1570\n",
      "Metric=euclidean, k=99: Training Error Rate = 0.1780, Dev Error Rate = 0.1580\n",
      "Metric=manhattan, k=1: Training Error Rate = 0.0152, Dev Error Rate = 0.2400\n",
      "Metric=manhattan, k=3: Training Error Rate = 0.1168, Dev Error Rate = 0.1970\n",
      "Metric=manhattan, k=5: Training Error Rate = 0.1374, Dev Error Rate = 0.1770\n",
      "Metric=manhattan, k=7: Training Error Rate = 0.1456, Dev Error Rate = 0.1670\n",
      "Metric=manhattan, k=9: Training Error Rate = 0.1546, Dev Error Rate = 0.1610\n",
      "Metric=manhattan, k=11: Training Error Rate = 0.1642, Dev Error Rate = 0.1650\n",
      "Metric=manhattan, k=13: Training Error Rate = 0.1644, Dev Error Rate = 0.1650\n",
      "Metric=manhattan, k=15: Training Error Rate = 0.1686, Dev Error Rate = 0.1640\n",
      "Metric=manhattan, k=17: Training Error Rate = 0.1694, Dev Error Rate = 0.1550\n",
      "Metric=manhattan, k=19: Training Error Rate = 0.1692, Dev Error Rate = 0.1650\n",
      "Metric=manhattan, k=21: Training Error Rate = 0.1710, Dev Error Rate = 0.1640\n",
      "Metric=manhattan, k=23: Training Error Rate = 0.1704, Dev Error Rate = 0.1610\n",
      "Metric=manhattan, k=25: Training Error Rate = 0.1688, Dev Error Rate = 0.1550\n",
      "Metric=manhattan, k=27: Training Error Rate = 0.1686, Dev Error Rate = 0.1580\n",
      "Metric=manhattan, k=29: Training Error Rate = 0.1700, Dev Error Rate = 0.1550\n",
      "Metric=manhattan, k=31: Training Error Rate = 0.1708, Dev Error Rate = 0.1580\n",
      "Metric=manhattan, k=33: Training Error Rate = 0.1702, Dev Error Rate = 0.1560\n",
      "Metric=manhattan, k=35: Training Error Rate = 0.1694, Dev Error Rate = 0.1520\n",
      "Metric=manhattan, k=37: Training Error Rate = 0.1724, Dev Error Rate = 0.1480\n",
      "Metric=manhattan, k=39: Training Error Rate = 0.1724, Dev Error Rate = 0.1450\n",
      "Metric=manhattan, k=41: Training Error Rate = 0.1732, Dev Error Rate = 0.1420\n",
      "Metric=manhattan, k=43: Training Error Rate = 0.1750, Dev Error Rate = 0.1460\n",
      "Metric=manhattan, k=45: Training Error Rate = 0.1764, Dev Error Rate = 0.1470\n",
      "Metric=manhattan, k=47: Training Error Rate = 0.1772, Dev Error Rate = 0.1520\n",
      "Metric=manhattan, k=49: Training Error Rate = 0.1778, Dev Error Rate = 0.1510\n",
      "Metric=manhattan, k=51: Training Error Rate = 0.1774, Dev Error Rate = 0.1550\n",
      "Metric=manhattan, k=53: Training Error Rate = 0.1774, Dev Error Rate = 0.1520\n",
      "Metric=manhattan, k=55: Training Error Rate = 0.1796, Dev Error Rate = 0.1550\n",
      "Metric=manhattan, k=57: Training Error Rate = 0.1778, Dev Error Rate = 0.1510\n",
      "Metric=manhattan, k=59: Training Error Rate = 0.1792, Dev Error Rate = 0.1490\n",
      "Metric=manhattan, k=61: Training Error Rate = 0.1798, Dev Error Rate = 0.1480\n",
      "Metric=manhattan, k=63: Training Error Rate = 0.1798, Dev Error Rate = 0.1510\n",
      "Metric=manhattan, k=65: Training Error Rate = 0.1780, Dev Error Rate = 0.1530\n",
      "Metric=manhattan, k=67: Training Error Rate = 0.1784, Dev Error Rate = 0.1530\n",
      "Metric=manhattan, k=69: Training Error Rate = 0.1776, Dev Error Rate = 0.1510\n",
      "Metric=manhattan, k=71: Training Error Rate = 0.1762, Dev Error Rate = 0.1530\n",
      "Metric=manhattan, k=73: Training Error Rate = 0.1770, Dev Error Rate = 0.1500\n",
      "Metric=manhattan, k=75: Training Error Rate = 0.1770, Dev Error Rate = 0.1520\n",
      "Metric=manhattan, k=77: Training Error Rate = 0.1788, Dev Error Rate = 0.1530\n",
      "Metric=manhattan, k=79: Training Error Rate = 0.1796, Dev Error Rate = 0.1570\n",
      "Metric=manhattan, k=81: Training Error Rate = 0.1782, Dev Error Rate = 0.1560\n",
      "Metric=manhattan, k=83: Training Error Rate = 0.1784, Dev Error Rate = 0.1570\n",
      "Metric=manhattan, k=85: Training Error Rate = 0.1782, Dev Error Rate = 0.1520\n",
      "Metric=manhattan, k=87: Training Error Rate = 0.1778, Dev Error Rate = 0.1560\n",
      "Metric=manhattan, k=89: Training Error Rate = 0.1782, Dev Error Rate = 0.1530\n",
      "Metric=manhattan, k=91: Training Error Rate = 0.1788, Dev Error Rate = 0.1530\n",
      "Metric=manhattan, k=93: Training Error Rate = 0.1794, Dev Error Rate = 0.1550\n",
      "Metric=manhattan, k=95: Training Error Rate = 0.1786, Dev Error Rate = 0.1570\n",
      "Metric=manhattan, k=97: Training Error Rate = 0.1800, Dev Error Rate = 0.1520\n",
      "Metric=manhattan, k=99: Training Error Rate = 0.1788, Dev Error Rate = 0.1520\n"
     ]
    }
   ],
   "source": [
    "# top-3 version\n",
    "from sklearn.neighbors import KNeighborsClassifier\n",
    "from sklearn.metrics import accuracy_score\n",
    "\n",
    "# Preprocessing\n",
    "processed_dev_data = preprocessor.transform(dev_data)\n",
    "X_dev = processed_dev_data\n",
    "y_dev = (dev_data[\"target\"].str.strip() == '>50K').astype(int).values\n",
    "\n",
    "training_error_rates = []\n",
    "dev_error_rates = []\n",
    "training_positive_rates = []\n",
    "dev_positive_rates = []\n",
    "\n",
    "# Consider using a dictionary to store distances for easier organization\n",
    "top_3_distances = {\n",
    "    'euclidean': None,\n",
    "    'manhattan': None\n",
    "}\n",
    "\n",
    "for metric in ['euclidean', 'manhattan']:\n",
    "    for k in range(1, 101, 2):\n",
    "        knn = KNeighborsClassifier(n_neighbors=k, metric=metric)\n",
    "        knn.fit(X_train, y_train)\n",
    "        \n",
    "        train_preds = knn.predict(X_train)\n",
    "        dev_preds = knn.predict(X_dev)\n",
    "        \n",
    "        train_error_rate = 1 - accuracy_score(y_train, train_preds)\n",
    "        dev_error_rate = 1 - accuracy_score(y_dev, dev_preds)\n",
    "        \n",
    "        training_error_rates.append(train_error_rate)\n",
    "        dev_error_rates.append(dev_error_rate)\n",
    "        \n",
    "        print(f\"Metric={metric}, k={k}: Training Error Rate = {train_error_rate:.4f}, Dev Error Rate = {dev_error_rate:.4f}\")\n",
    "        \n",
    "        # If k equals 3, get the distances for top-3 neighbors\n",
    "        if k == 3:\n",
    "            distances, _ = knn.kneighbors(X_dev, n_neighbors=3)\n",
    "            top_3_distances[metric] = distances\n",
    "\n",
    "# Accessing the distances:\n",
    "euclidean_distances_top_3 = top_3_distances['euclidean']\n",
    "manhattan_distances_top_3 = top_3_distances['manhattan']\n"
   ]
  },
  {
   "cell_type": "code",
   "execution_count": 67,
   "id": "87c68077-4631-4ab4-b139-c9287c54c8d5",
   "metadata": {},
   "outputs": [
    {
     "data": {
      "text/plain": [
       "array([[0.33441929, 1.41527469, 1.41674697],\n",
       "       [2.48462326, 2.4886983 , 2.49291722],\n",
       "       [0.08219178, 0.16438356, 0.16554809],\n",
       "       ...,\n",
       "       [0.        , 0.02739726, 0.04915875],\n",
       "       [1.41894847, 1.43473041, 1.4625771 ],\n",
       "       [0.08219178, 0.21917808, 0.26530612]])"
      ]
     },
     "execution_count": 67,
     "metadata": {},
     "output_type": "execute_result"
    }
   ],
   "source": [
    "euclidean_distances_top_3"
   ]
  },
  {
   "cell_type": "code",
   "execution_count": 68,
   "id": "955f5b6c-1e4b-4301-9d17-ee1bbc49a292",
   "metadata": {},
   "outputs": [
    {
     "data": {
      "text/plain": [
       "array([[0.38999161, 2.05479452, 2.10204082],\n",
       "       [6.49035505, 6.5649986 , 6.57254683],\n",
       "       [0.08219178, 0.16438356, 0.19066257],\n",
       "       ...,\n",
       "       [0.        , 0.02739726, 0.06821359],\n",
       "       [2.15683534, 2.3212189 , 2.41515236],\n",
       "       [0.08219178, 0.21917808, 0.26530612]])"
      ]
     },
     "execution_count": 68,
     "metadata": {},
     "output_type": "execute_result"
    }
   ],
   "source": [
    "manhattan_distances_top_3"
   ]
  },
  {
   "cell_type": "code",
   "execution_count": null,
   "id": "09c4fee1-75e9-475a-a19a-2d5d67e95772",
   "metadata": {},
   "outputs": [],
   "source": []
  }
 ],
 "metadata": {
  "kernelspec": {
   "display_name": "Python 3 (ipykernel)",
   "language": "python",
   "name": "python3"
  },
  "language_info": {
   "codemirror_mode": {
    "name": "ipython",
    "version": 3
   },
   "file_extension": ".py",
   "mimetype": "text/x-python",
   "name": "python",
   "nbconvert_exporter": "python",
   "pygments_lexer": "ipython3",
   "version": "3.11.6"
  }
 },
 "nbformat": 4,
 "nbformat_minor": 5
}
