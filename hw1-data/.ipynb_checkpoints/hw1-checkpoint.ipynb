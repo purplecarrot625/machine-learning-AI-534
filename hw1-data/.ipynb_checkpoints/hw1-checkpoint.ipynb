{
 "cells": [
  {
   "cell_type": "code",
   "execution_count": 2,
   "id": "1f4a5817-48bc-42d4-b096-049ec49c86da",
   "metadata": {},
   "outputs": [],
   "source": [
    "import pandas as pd"
   ]
  },
  {
   "cell_type": "code",
   "execution_count": 3,
   "id": "2cf8ac72-80b1-4b39-b815-c8c0a3260cdb",
   "metadata": {},
   "outputs": [],
   "source": [
    "names = [\"age\", \"sector\", \"education\", \"marital-status\", \"occupation\", \"race\", \"sex\", \"hours-per-week\", \"country-of-origin\", \"target\"]"
   ]
  },
  {
   "cell_type": "code",
   "execution_count": 4,
   "id": "86c72445-4acc-4f3c-807c-7039d056734e",
   "metadata": {},
   "outputs": [],
   "source": [
    "data = pd.read_csv(\"income.train.txt.5k\", names = names)"
   ]
  },
  {
   "cell_type": "code",
   "execution_count": 7,
   "id": "0849467b-3054-4b23-8c23-6b8747d69102",
   "metadata": {},
   "outputs": [],
   "source": [
    "from sklearn.preprocessing import OneHotEncoder"
   ]
  },
  {
   "cell_type": "code",
   "execution_count": 8,
   "id": "e4ea0cf0-d616-4b33-b93c-c8492e88d14a",
   "metadata": {},
   "outputs": [
    {
     "name": "stderr",
     "output_type": "stream",
     "text": [
      "/opt/homebrew/lib/python3.11/site-packages/sklearn/preprocessing/_encoders.py:975: FutureWarning: `sparse` was renamed to `sparse_output` in version 1.2 and will be removed in 1.4. `sparse_output` is ignored unless you leave `sparse` to its default value.\n",
      "  warnings.warn(\n"
     ]
    },
    {
     "data": {
      "text/html": [
       "<style>#sk-container-id-1 {color: black;}#sk-container-id-1 pre{padding: 0;}#sk-container-id-1 div.sk-toggleable {background-color: white;}#sk-container-id-1 label.sk-toggleable__label {cursor: pointer;display: block;width: 100%;margin-bottom: 0;padding: 0.3em;box-sizing: border-box;text-align: center;}#sk-container-id-1 label.sk-toggleable__label-arrow:before {content: \"▸\";float: left;margin-right: 0.25em;color: #696969;}#sk-container-id-1 label.sk-toggleable__label-arrow:hover:before {color: black;}#sk-container-id-1 div.sk-estimator:hover label.sk-toggleable__label-arrow:before {color: black;}#sk-container-id-1 div.sk-toggleable__content {max-height: 0;max-width: 0;overflow: hidden;text-align: left;background-color: #f0f8ff;}#sk-container-id-1 div.sk-toggleable__content pre {margin: 0.2em;color: black;border-radius: 0.25em;background-color: #f0f8ff;}#sk-container-id-1 input.sk-toggleable__control:checked~div.sk-toggleable__content {max-height: 200px;max-width: 100%;overflow: auto;}#sk-container-id-1 input.sk-toggleable__control:checked~label.sk-toggleable__label-arrow:before {content: \"▾\";}#sk-container-id-1 div.sk-estimator input.sk-toggleable__control:checked~label.sk-toggleable__label {background-color: #d4ebff;}#sk-container-id-1 div.sk-label input.sk-toggleable__control:checked~label.sk-toggleable__label {background-color: #d4ebff;}#sk-container-id-1 input.sk-hidden--visually {border: 0;clip: rect(1px 1px 1px 1px);clip: rect(1px, 1px, 1px, 1px);height: 1px;margin: -1px;overflow: hidden;padding: 0;position: absolute;width: 1px;}#sk-container-id-1 div.sk-estimator {font-family: monospace;background-color: #f0f8ff;border: 1px dotted black;border-radius: 0.25em;box-sizing: border-box;margin-bottom: 0.5em;}#sk-container-id-1 div.sk-estimator:hover {background-color: #d4ebff;}#sk-container-id-1 div.sk-parallel-item::after {content: \"\";width: 100%;border-bottom: 1px solid gray;flex-grow: 1;}#sk-container-id-1 div.sk-label:hover label.sk-toggleable__label {background-color: #d4ebff;}#sk-container-id-1 div.sk-serial::before {content: \"\";position: absolute;border-left: 1px solid gray;box-sizing: border-box;top: 0;bottom: 0;left: 50%;z-index: 0;}#sk-container-id-1 div.sk-serial {display: flex;flex-direction: column;align-items: center;background-color: white;padding-right: 0.2em;padding-left: 0.2em;position: relative;}#sk-container-id-1 div.sk-item {position: relative;z-index: 1;}#sk-container-id-1 div.sk-parallel {display: flex;align-items: stretch;justify-content: center;background-color: white;position: relative;}#sk-container-id-1 div.sk-item::before, #sk-container-id-1 div.sk-parallel-item::before {content: \"\";position: absolute;border-left: 1px solid gray;box-sizing: border-box;top: 0;bottom: 0;left: 50%;z-index: -1;}#sk-container-id-1 div.sk-parallel-item {display: flex;flex-direction: column;z-index: 1;position: relative;background-color: white;}#sk-container-id-1 div.sk-parallel-item:first-child::after {align-self: flex-end;width: 50%;}#sk-container-id-1 div.sk-parallel-item:last-child::after {align-self: flex-start;width: 50%;}#sk-container-id-1 div.sk-parallel-item:only-child::after {width: 0;}#sk-container-id-1 div.sk-dashed-wrapped {border: 1px dashed gray;margin: 0 0.4em 0.5em 0.4em;box-sizing: border-box;padding-bottom: 0.4em;background-color: white;}#sk-container-id-1 div.sk-label label {font-family: monospace;font-weight: bold;display: inline-block;line-height: 1.2em;}#sk-container-id-1 div.sk-label-container {text-align: center;}#sk-container-id-1 div.sk-container {/* jupyter's `normalize.less` sets `[hidden] { display: none; }` but bootstrap.min.css set `[hidden] { display: none !important; }` so we also need the `!important` here to be able to override the default hidden behavior on the sphinx rendered scikit-learn.org. See: https://github.com/scikit-learn/scikit-learn/issues/21755 */display: inline-block !important;position: relative;}#sk-container-id-1 div.sk-text-repr-fallback {display: none;}</style><div id=\"sk-container-id-1\" class=\"sk-top-container\"><div class=\"sk-text-repr-fallback\"><pre>OneHotEncoder(handle_unknown=&#x27;ignore&#x27;, sparse=False, sparse_output=False)</pre><b>In a Jupyter environment, please rerun this cell to show the HTML representation or trust the notebook. <br />On GitHub, the HTML representation is unable to render, please try loading this page with nbviewer.org.</b></div><div class=\"sk-container\" hidden><div class=\"sk-item\"><div class=\"sk-estimator sk-toggleable\"><input class=\"sk-toggleable__control sk-hidden--visually\" id=\"sk-estimator-id-1\" type=\"checkbox\" checked><label for=\"sk-estimator-id-1\" class=\"sk-toggleable__label sk-toggleable__label-arrow\">OneHotEncoder</label><div class=\"sk-toggleable__content\"><pre>OneHotEncoder(handle_unknown=&#x27;ignore&#x27;, sparse=False, sparse_output=False)</pre></div></div></div></div></div>"
      ],
      "text/plain": [
       "OneHotEncoder(handle_unknown='ignore', sparse=False, sparse_output=False)"
      ]
     },
     "execution_count": 8,
     "metadata": {},
     "output_type": "execute_result"
    }
   ],
   "source": [
    "encoder = OneHotEncoder(sparse=False, handle_unknown='ignore')\n",
    "encoder.fit(data)"
   ]
  },
  {
   "cell_type": "code",
   "execution_count": 9,
   "id": "c41daf3e-e2be-4716-a2c1-34f05247d0d6",
   "metadata": {},
   "outputs": [],
   "source": [
    "binary_data = encoder.transform(data)"
   ]
  },
  {
   "cell_type": "code",
   "execution_count": 16,
   "id": "27baa710-c954-4945-af88-8799cda69fc1",
   "metadata": {},
   "outputs": [
    {
     "data": {
      "text/plain": [
       "array(['age_17', 'age_18', 'age_19', 'age_20', 'age_21', 'age_22',\n",
       "       'age_23', 'age_24', 'age_25', 'age_26', 'age_27', 'age_28',\n",
       "       'age_29', 'age_30', 'age_31', 'age_32', 'age_33', 'age_34',\n",
       "       'age_35', 'age_36', 'age_37', 'age_38', 'age_39', 'age_40',\n",
       "       'age_41', 'age_42', 'age_43', 'age_44', 'age_45', 'age_46',\n",
       "       'age_47', 'age_48', 'age_49', 'age_50', 'age_51', 'age_52',\n",
       "       'age_53', 'age_54', 'age_55', 'age_56', 'age_57', 'age_58',\n",
       "       'age_59', 'age_60', 'age_61', 'age_62', 'age_63', 'age_64',\n",
       "       'age_65', 'age_66', 'age_67', 'age_68', 'age_69', 'age_70',\n",
       "       'age_71', 'age_72', 'age_73', 'age_74', 'age_75', 'age_76',\n",
       "       'age_77', 'age_78', 'age_79', 'age_80', 'age_81', 'age_88',\n",
       "       'age_90', 'sector_ Federal-gov', 'sector_ Local-gov',\n",
       "       'sector_ Private', 'sector_ Self-emp-inc',\n",
       "       'sector_ Self-emp-not-inc', 'sector_ State-gov',\n",
       "       'sector_ Without-pay', 'education_ 10th', 'education_ 11th',\n",
       "       'education_ 12th', 'education_ 1st-4th', 'education_ 5th-6th',\n",
       "       'education_ 7th-8th', 'education_ 9th', 'education_ Assoc-acdm',\n",
       "       'education_ Assoc-voc', 'education_ Bachelors',\n",
       "       'education_ Doctorate', 'education_ HS-grad', 'education_ Masters',\n",
       "       'education_ Preschool', 'education_ Prof-school',\n",
       "       'education_ Some-college', 'marital-status_ Divorced',\n",
       "       'marital-status_ Married-AF-spouse',\n",
       "       'marital-status_ Married-civ-spouse',\n",
       "       'marital-status_ Married-spouse-absent',\n",
       "       'marital-status_ Never-married', 'marital-status_ Separated',\n",
       "       'marital-status_ Widowed', 'occupation_ Adm-clerical',\n",
       "       'occupation_ Armed-Forces', 'occupation_ Craft-repair',\n",
       "       'occupation_ Exec-managerial', 'occupation_ Farming-fishing',\n",
       "       'occupation_ Handlers-cleaners', 'occupation_ Machine-op-inspct',\n",
       "       'occupation_ Other-service', 'occupation_ Priv-house-serv',\n",
       "       'occupation_ Prof-specialty', 'occupation_ Protective-serv',\n",
       "       'occupation_ Sales', 'occupation_ Tech-support',\n",
       "       'occupation_ Transport-moving', 'race_ Amer-Indian-Eskimo',\n",
       "       'race_ Asian-Pac-Islander', 'race_ Black', 'race_ Other',\n",
       "       'race_ White', 'sex_ Female', 'sex_ Male', 'hours-per-week_1',\n",
       "       'hours-per-week_2', 'hours-per-week_3', 'hours-per-week_5',\n",
       "       'hours-per-week_6', 'hours-per-week_7', 'hours-per-week_8',\n",
       "       'hours-per-week_9', 'hours-per-week_10', 'hours-per-week_11',\n",
       "       'hours-per-week_12', 'hours-per-week_13', 'hours-per-week_14',\n",
       "       'hours-per-week_15', 'hours-per-week_16', 'hours-per-week_17',\n",
       "       'hours-per-week_18', 'hours-per-week_19', 'hours-per-week_20',\n",
       "       'hours-per-week_21', 'hours-per-week_22', 'hours-per-week_24',\n",
       "       'hours-per-week_25', 'hours-per-week_26', 'hours-per-week_27',\n",
       "       'hours-per-week_28', 'hours-per-week_30', 'hours-per-week_32',\n",
       "       'hours-per-week_33', 'hours-per-week_34', 'hours-per-week_35',\n",
       "       'hours-per-week_36', 'hours-per-week_37', 'hours-per-week_38',\n",
       "       'hours-per-week_39', 'hours-per-week_40', 'hours-per-week_41',\n",
       "       'hours-per-week_42', 'hours-per-week_43', 'hours-per-week_44',\n",
       "       'hours-per-week_45', 'hours-per-week_46', 'hours-per-week_47',\n",
       "       'hours-per-week_48', 'hours-per-week_49', 'hours-per-week_50',\n",
       "       'hours-per-week_51', 'hours-per-week_52', 'hours-per-week_53',\n",
       "       'hours-per-week_54', 'hours-per-week_55', 'hours-per-week_56',\n",
       "       'hours-per-week_57', 'hours-per-week_58', 'hours-per-week_59',\n",
       "       'hours-per-week_60', 'hours-per-week_62', 'hours-per-week_63',\n",
       "       'hours-per-week_64', 'hours-per-week_65', 'hours-per-week_66',\n",
       "       'hours-per-week_68', 'hours-per-week_70', 'hours-per-week_72',\n",
       "       'hours-per-week_75', 'hours-per-week_77', 'hours-per-week_78',\n",
       "       'hours-per-week_80', 'hours-per-week_84', 'hours-per-week_85',\n",
       "       'hours-per-week_90', 'hours-per-week_98', 'hours-per-week_99',\n",
       "       'country-of-origin_ Cambodia', 'country-of-origin_ Canada',\n",
       "       'country-of-origin_ China', 'country-of-origin_ Columbia',\n",
       "       'country-of-origin_ Cuba', 'country-of-origin_ Dominican-Republic',\n",
       "       'country-of-origin_ Ecuador', 'country-of-origin_ El-Salvador',\n",
       "       'country-of-origin_ England', 'country-of-origin_ France',\n",
       "       'country-of-origin_ Germany', 'country-of-origin_ Greece',\n",
       "       'country-of-origin_ Guatemala', 'country-of-origin_ Haiti',\n",
       "       'country-of-origin_ Honduras', 'country-of-origin_ Hong',\n",
       "       'country-of-origin_ India', 'country-of-origin_ Iran',\n",
       "       'country-of-origin_ Ireland', 'country-of-origin_ Italy',\n",
       "       'country-of-origin_ Jamaica', 'country-of-origin_ Japan',\n",
       "       'country-of-origin_ Laos', 'country-of-origin_ Mexico',\n",
       "       'country-of-origin_ Nicaragua',\n",
       "       'country-of-origin_ Outlying-US(Guam-USVI-etc)',\n",
       "       'country-of-origin_ Peru', 'country-of-origin_ Philippines',\n",
       "       'country-of-origin_ Poland', 'country-of-origin_ Portugal',\n",
       "       'country-of-origin_ Puerto-Rico', 'country-of-origin_ Scotland',\n",
       "       'country-of-origin_ South', 'country-of-origin_ Taiwan',\n",
       "       'country-of-origin_ Thailand',\n",
       "       'country-of-origin_ Trinadad&Tobago',\n",
       "       'country-of-origin_ United-States', 'country-of-origin_ Vietnam',\n",
       "       'country-of-origin_ Yugoslavia', 'target_ <=50K', 'target_ >50K'],\n",
       "      dtype=object)"
      ]
     },
     "execution_count": 16,
     "metadata": {},
     "output_type": "execute_result"
    }
   ],
   "source": [
    "feature_names = encoder.get_feature_names_out()\n",
    "feature_names"
   ]
  },
  {
   "cell_type": "code",
   "execution_count": 15,
   "id": "ff90405c-51c9-4f93-9ce7-484768ff26ba",
   "metadata": {},
   "outputs": [
    {
     "data": {
      "text/plain": [
       "232"
      ]
     },
     "execution_count": 15,
     "metadata": {},
     "output_type": "execute_result"
    }
   ],
   "source": [
    "count = len(feature_names)\n",
    "count"
   ]
  },
  {
   "cell_type": "code",
   "execution_count": 27,
   "id": "9a7683ec-f8db-4c8b-a245-1bf8f5d98f5a",
   "metadata": {},
   "outputs": [],
   "source": [
    "# Import dev data\n",
    "data_dev = pd.read_csv(\"income.dev.txt\", names = names)"
   ]
  },
  {
   "cell_type": "code",
   "execution_count": 28,
   "id": "77b7a71f-928a-40ae-abea-f531e52a1c7b",
   "metadata": {},
   "outputs": [
    {
     "name": "stderr",
     "output_type": "stream",
     "text": [
      "/opt/homebrew/lib/python3.11/site-packages/sklearn/preprocessing/_encoders.py:975: FutureWarning: `sparse` was renamed to `sparse_output` in version 1.2 and will be removed in 1.4. `sparse_output` is ignored unless you leave `sparse` to its default value.\n",
      "  warnings.warn(\n"
     ]
    },
    {
     "data": {
      "text/plain": [
       "array(['age_17', 'age_18', 'age_19', 'age_20', 'age_21', 'age_22',\n",
       "       'age_23', 'age_24', 'age_25', 'age_26', 'age_27', 'age_28',\n",
       "       'age_29', 'age_30', 'age_31', 'age_32', 'age_33', 'age_34',\n",
       "       'age_35', 'age_36', 'age_37', 'age_38', 'age_39', 'age_40',\n",
       "       'age_41', 'age_42', 'age_43', 'age_44', 'age_45', 'age_46',\n",
       "       'age_47', 'age_48', 'age_49', 'age_50', 'age_51', 'age_52',\n",
       "       'age_53', 'age_54', 'age_55', 'age_56', 'age_57', 'age_58',\n",
       "       'age_59', 'age_60', 'age_61', 'age_62', 'age_63', 'age_64',\n",
       "       'age_65', 'age_66', 'age_67', 'age_69', 'age_70', 'age_71',\n",
       "       'age_72', 'age_73', 'age_75', 'age_76', 'age_78', 'age_79',\n",
       "       'age_80', 'age_82', 'age_84', 'age_90', 'sector_ Federal-gov',\n",
       "       'sector_ Local-gov', 'sector_ Private', 'sector_ Self-emp-inc',\n",
       "       'sector_ Self-emp-not-inc', 'sector_ State-gov', 'education_ 10th',\n",
       "       'education_ 11th', 'education_ 12th', 'education_ 1st-4th',\n",
       "       'education_ 5th-6th', 'education_ 7th-8th', 'education_ 9th',\n",
       "       'education_ Assoc-acdm', 'education_ Assoc-voc',\n",
       "       'education_ Bachelors', 'education_ Doctorate',\n",
       "       'education_ HS-grad', 'education_ Masters', 'education_ Preschool',\n",
       "       'education_ Prof-school', 'education_ Some-college',\n",
       "       'marital-status_ Divorced', 'marital-status_ Married-AF-spouse',\n",
       "       'marital-status_ Married-civ-spouse',\n",
       "       'marital-status_ Married-spouse-absent',\n",
       "       'marital-status_ Never-married', 'marital-status_ Separated',\n",
       "       'marital-status_ Widowed', 'occupation_ Adm-clerical',\n",
       "       'occupation_ Craft-repair', 'occupation_ Exec-managerial',\n",
       "       'occupation_ Farming-fishing', 'occupation_ Handlers-cleaners',\n",
       "       'occupation_ Machine-op-inspct', 'occupation_ Other-service',\n",
       "       'occupation_ Priv-house-serv', 'occupation_ Prof-specialty',\n",
       "       'occupation_ Protective-serv', 'occupation_ Sales',\n",
       "       'occupation_ Tech-support', 'occupation_ Transport-moving',\n",
       "       'race_ Amer-Indian-Eskimo', 'race_ Asian-Pac-Islander',\n",
       "       'race_ Black', 'race_ Other', 'race_ White', 'sex_ Female',\n",
       "       'sex_ Male', 'hours-per-week_2', 'hours-per-week_5',\n",
       "       'hours-per-week_6', 'hours-per-week_7', 'hours-per-week_8',\n",
       "       'hours-per-week_10', 'hours-per-week_11', 'hours-per-week_12',\n",
       "       'hours-per-week_13', 'hours-per-week_14', 'hours-per-week_15',\n",
       "       'hours-per-week_16', 'hours-per-week_18', 'hours-per-week_20',\n",
       "       'hours-per-week_21', 'hours-per-week_22', 'hours-per-week_24',\n",
       "       'hours-per-week_25', 'hours-per-week_27', 'hours-per-week_28',\n",
       "       'hours-per-week_30', 'hours-per-week_32', 'hours-per-week_33',\n",
       "       'hours-per-week_34', 'hours-per-week_35', 'hours-per-week_36',\n",
       "       'hours-per-week_37', 'hours-per-week_38', 'hours-per-week_40',\n",
       "       'hours-per-week_41', 'hours-per-week_42', 'hours-per-week_43',\n",
       "       'hours-per-week_44', 'hours-per-week_45', 'hours-per-week_46',\n",
       "       'hours-per-week_47', 'hours-per-week_48', 'hours-per-week_49',\n",
       "       'hours-per-week_50', 'hours-per-week_52', 'hours-per-week_53',\n",
       "       'hours-per-week_54', 'hours-per-week_55', 'hours-per-week_56',\n",
       "       'hours-per-week_57', 'hours-per-week_60', 'hours-per-week_65',\n",
       "       'hours-per-week_66', 'hours-per-week_70', 'hours-per-week_75',\n",
       "       'hours-per-week_80', 'hours-per-week_84', 'hours-per-week_99',\n",
       "       'country-of-origin_ Canada', 'country-of-origin_ China',\n",
       "       'country-of-origin_ Columbia', 'country-of-origin_ Cuba',\n",
       "       'country-of-origin_ Dominican-Republic',\n",
       "       'country-of-origin_ El-Salvador', 'country-of-origin_ England',\n",
       "       'country-of-origin_ France', 'country-of-origin_ Germany',\n",
       "       'country-of-origin_ Guatemala', 'country-of-origin_ Haiti',\n",
       "       'country-of-origin_ Hungary', 'country-of-origin_ India',\n",
       "       'country-of-origin_ Iran', 'country-of-origin_ Italy',\n",
       "       'country-of-origin_ Jamaica', 'country-of-origin_ Japan',\n",
       "       'country-of-origin_ Laos', 'country-of-origin_ Mexico',\n",
       "       'country-of-origin_ Nicaragua', 'country-of-origin_ Philippines',\n",
       "       'country-of-origin_ Poland', 'country-of-origin_ Portugal',\n",
       "       'country-of-origin_ Puerto-Rico', 'country-of-origin_ South',\n",
       "       'country-of-origin_ Taiwan', 'country-of-origin_ United-States',\n",
       "       'country-of-origin_ Vietnam', 'country-of-origin_ Yugoslavia',\n",
       "       'target_ <=50K', 'target_ >50K'], dtype=object)"
      ]
     },
     "execution_count": 28,
     "metadata": {},
     "output_type": "execute_result"
    }
   ],
   "source": [
    "encoder = OneHotEncoder(sparse=False, handle_unknown='ignore')\n",
    "encoder.fit(data_dev)\n",
    "binary_data_dev = encoder.transform(data_dev)\n",
    "feature_names = encoder.get_feature_names_out()\n",
    "feature_names"
   ]
  },
  {
   "cell_type": "code",
   "execution_count": 31,
   "id": "d7a7b689-5759-4709-aca0-34682323ee31",
   "metadata": {},
   "outputs": [
    {
     "data": {
      "text/plain": [
       "197"
      ]
     },
     "execution_count": 31,
     "metadata": {},
     "output_type": "execute_result"
    }
   ],
   "source": [
    "count = len(feature_names)\n",
    "count"
   ]
  },
  {
   "cell_type": "code",
   "execution_count": null,
   "id": "ec8df244-6421-4451-bfcd-4ff7a20577d9",
   "metadata": {},
   "outputs": [],
   "source": [
    "# KNN"
   ]
  },
  {
   "cell_type": "code",
   "execution_count": 18,
   "id": "3e8bbd69-1fd7-432e-ad4a-b2a50a5ecdee",
   "metadata": {},
   "outputs": [],
   "source": [
    "import numpy as np\n",
    "from sklearn.neighbors import KNeighborsClassifier\n",
    "from sklearn.metrics import accuracy_score\n"
   ]
  },
  {
   "cell_type": "code",
   "execution_count": 29,
   "id": "15d5cd38-928d-40e6-8879-00e4bf039d19",
   "metadata": {},
   "outputs": [],
   "source": [
    "# Seperate the data as X_train, y_train\n",
    "X_train = binary_data[:,:-2] # Excluding the last two columns which are for the target in binary format\n",
    "y_train = binary_data[:,-1] # Taking the last column. Assuming 'target_ >50K' is coded as 1 and 'target_ <=50K' as 0\n",
    "\n",
    "X_dev = binary_data_dev[:,:-2]\n",
    "y_dev = binary_data_dev[:,-1]"
   ]
  },
  {
   "cell_type": "code",
   "execution_count": 33,
   "id": "a9db402c-ae98-46c8-becb-1e99fb8743ba",
   "metadata": {},
   "outputs": [
    {
     "name": "stdout",
     "output_type": "stream",
     "text": [
      "k = 1: Dev Accuracy = 0.9960\n",
      "k = 3: Dev Accuracy = 0.8850\n",
      "k = 5: Dev Accuracy = 0.8790\n",
      "k = 7: Dev Accuracy = 0.8710\n",
      "k = 9: Dev Accuracy = 0.8550\n",
      "k = 11: Dev Accuracy = 0.8470\n",
      "k = 13: Dev Accuracy = 0.8520\n",
      "k = 15: Dev Accuracy = 0.8520\n",
      "k = 17: Dev Accuracy = 0.8520\n",
      "k = 19: Dev Accuracy = 0.8400\n",
      "k = 21: Dev Accuracy = 0.8490\n",
      "k = 23: Dev Accuracy = 0.8470\n",
      "k = 25: Dev Accuracy = 0.8460\n",
      "k = 27: Dev Accuracy = 0.8430\n",
      "k = 29: Dev Accuracy = 0.8420\n",
      "k = 31: Dev Accuracy = 0.8490\n",
      "k = 33: Dev Accuracy = 0.8480\n",
      "k = 35: Dev Accuracy = 0.8410\n",
      "k = 37: Dev Accuracy = 0.8440\n",
      "k = 39: Dev Accuracy = 0.8460\n",
      "k = 41: Dev Accuracy = 0.8430\n",
      "k = 43: Dev Accuracy = 0.8330\n",
      "k = 45: Dev Accuracy = 0.8300\n",
      "k = 47: Dev Accuracy = 0.8360\n",
      "k = 49: Dev Accuracy = 0.8350\n",
      "k = 51: Dev Accuracy = 0.8350\n",
      "k = 53: Dev Accuracy = 0.8280\n",
      "k = 55: Dev Accuracy = 0.8310\n",
      "k = 57: Dev Accuracy = 0.8310\n",
      "k = 59: Dev Accuracy = 0.8300\n",
      "k = 61: Dev Accuracy = 0.8310\n",
      "k = 63: Dev Accuracy = 0.8290\n",
      "k = 65: Dev Accuracy = 0.8330\n",
      "k = 67: Dev Accuracy = 0.8310\n",
      "k = 69: Dev Accuracy = 0.8310\n",
      "k = 71: Dev Accuracy = 0.8320\n",
      "k = 73: Dev Accuracy = 0.8280\n",
      "k = 75: Dev Accuracy = 0.8280\n",
      "k = 77: Dev Accuracy = 0.8270\n",
      "k = 79: Dev Accuracy = 0.8300\n",
      "k = 81: Dev Accuracy = 0.8310\n",
      "k = 83: Dev Accuracy = 0.8260\n",
      "k = 85: Dev Accuracy = 0.8270\n",
      "k = 87: Dev Accuracy = 0.8240\n",
      "k = 89: Dev Accuracy = 0.8200\n",
      "k = 91: Dev Accuracy = 0.8260\n",
      "k = 93: Dev Accuracy = 0.8280\n",
      "k = 95: Dev Accuracy = 0.8280\n",
      "k = 97: Dev Accuracy = 0.8220\n",
      "k = 99: Dev Accuracy = 0.8230\n"
     ]
    }
   ],
   "source": [
    "# Train and evaluate the model\n",
    "training_accuracies = []\n",
    "dev_accuracies = []\n",
    "\n",
    "for k in range(1, 101, 2):\n",
    "    # Initialize the classifier\n",
    "    knn = KNeighborsClassifier(n_neighbors=k)\n",
    "    #knn.fit(X_train, y_train)\n",
    "    knn.fit(X_dev, y_dev)\n",
    "\n",
    "    # Predict the training set\n",
    "    #train_preds = knn.predict(X_train)\n",
    "    dev_preds = knn.predict(X_dev)\n",
    "\n",
    "    # Get the accuracies\n",
    "    #train_acc = accuracy_score(y_train, train_preds)\n",
    "    dev_accuracy = accuracy_score(y_dev, dev_preds)\n",
    "\n",
    "    #training_accuracies.append(train_acc)\n",
    "    dev_accuracies.append(dev_accuracy)\n",
    "\n",
    "    #print(f'k = {k}: Training Accuracy = {train_acc:.4f}')\n",
    "    print(f'k = {k}: Dev Accuracy = {dev_accuracy:.4f}')"
   ]
  },
  {
   "cell_type": "code",
   "execution_count": null,
   "id": "199ee27e-32b4-44f4-b750-d1e1685094d1",
   "metadata": {},
   "outputs": [],
   "source": []
  }
 ],
 "metadata": {
  "kernelspec": {
   "display_name": "Python 3 (ipykernel)",
   "language": "python",
   "name": "python3"
  },
  "language_info": {
   "codemirror_mode": {
    "name": "ipython",
    "version": 3
   },
   "file_extension": ".py",
   "mimetype": "text/x-python",
   "name": "python",
   "nbconvert_exporter": "python",
   "pygments_lexer": "ipython3",
   "version": "3.11.6"
  }
 },
 "nbformat": 4,
 "nbformat_minor": 5
}
